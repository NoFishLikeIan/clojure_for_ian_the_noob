{
 "cells": [
  {
   "cell_type": "code",
   "execution_count": 18,
   "metadata": {},
   "outputs": [
    {
     "data": {
      "text/plain": [
       "#'user/array"
      ]
     },
     "execution_count": 18,
     "metadata": {},
     "output_type": "execute_result"
    }
   ],
   "source": [
    "(def array [\n",
    "               [(rand-int 2), (rand-int 2), (rand-int 2), (rand-int 2), (rand-int 2), (rand-int 2), (rand-int 2), (rand-int 2)],\n",
    "               [(rand-int 2), (rand-int 2), (rand-int 2), (rand-int 2), (rand-int 2), (rand-int 2), (rand-int 2), (rand-int 2)],\n",
    "               [(rand-int 2), (rand-int 2), (rand-int 2), (rand-int 2), (rand-int 2), (rand-int 2), (rand-int 2), (rand-int 2)],\n",
    "               [(rand-int 2), (rand-int 2), (rand-int 2), (rand-int 2), (rand-int 2), (rand-int 2), (rand-int 2), (rand-int 2)],\n",
    "               [(rand-int 2), (rand-int 2), (rand-int 2), (rand-int 2), (rand-int 2), (rand-int 2), (rand-int 2), (rand-int 2)],\n",
    "               ])"
   ]
  },
  {
   "cell_type": "code",
   "execution_count": 19,
   "metadata": {},
   "outputs": [
    {
     "data": {
      "text/plain": [
       "[[0 0 0 0] [0 0 0 0] [0 0 1 1] [1 0 0 0] [0 0 1 0]]"
      ]
     },
     "execution_count": 19,
     "metadata": {},
     "output_type": "execute_result"
    }
   ],
   "source": [
    "array"
   ]
  },
  {
   "cell_type": "code",
   "execution_count": null,
   "metadata": {},
   "outputs": [],
   "source": []
  }
 ],
 "metadata": {
  "kernelspec": {
   "display_name": "Clojure",
   "language": "clojure",
   "name": "clojure"
  },
  "language_info": {
   "file_extension": ".clj",
   "mimetype": "text/x-clojure",
   "name": "clojure",
   "version": "1.8.0"
  }
 },
 "nbformat": 4,
 "nbformat_minor": 2
}
