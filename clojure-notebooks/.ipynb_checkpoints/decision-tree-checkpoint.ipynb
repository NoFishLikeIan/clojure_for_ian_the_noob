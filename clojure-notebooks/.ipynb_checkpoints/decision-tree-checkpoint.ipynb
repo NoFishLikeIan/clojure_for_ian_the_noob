{
 "cells": [
  {
   "cell_type": "markdown",
   "metadata": {},
   "source": [
    "Taken from https://github.com/CodeFarmer/decision-tree/blob/master/src/decision_tree/core.clj"
   ]
  },
  {
   "cell_type": "code",
   "execution_count": 1,
   "metadata": {},
   "outputs": [
    {
     "data": {
      "text/plain": [
       "#'user/log2"
      ]
     },
     "execution_count": 1,
     "metadata": {},
     "output_type": "execute_result"
    }
   ],
   "source": [
    "(defn log2 [x]\n",
    "    \"Return the base 2 logarithm of x\"\n",
    "    (/ (Math/log x) (Math/log 2)))"
   ]
  },
  {
   "cell_type": "markdown",
   "metadata": {},
   "source": [
    "Calculates the entropy, where alist is (input, output), then:\n",
    "$$S = -k_{b}\\sum{p\\log(p)}$$"
   ]
  },
  {
   "cell_type": "code",
   "execution_count": 9,
   "metadata": {},
   "outputs": [
    {
     "data": {
      "text/plain": [
       "#'user/entropy"
      ]
     },
     "execution_count": 9,
     "metadata": {},
     "output_type": "execute_result"
    }
   ],
   "source": [
    "(defn entropy [alist]\n",
    "    \"Given a list of pairs if (input, output), calculate the entropy of the list with respect to output\"\n",
    "    (let [n (count alist)\n",
    "          counts (vals (frequencies (map #(nth % 1) alist)))] (comment \"Returns an array of frequencies in alist\")\n",
    "\n",
    "        (reduce + (map #(* (- %) (log2 %)) (map #(/ % n) counts)))))"
   ]
  },
  {
   "cell_type": "code",
   "execution_count": 13,
   "metadata": {},
   "outputs": [
    {
     "name": "stdout",
     "output_type": "stream",
     "text": [
      "IllegalArgumentException Parameter declaration missing  clojure.core/assert-valid-fdecl (core.clj:7181)\n"
     ]
    },
    {
     "ename": "class java.lang.IllegalArgumentException",
     "evalue": "",
     "output_type": "error",
     "traceback": [
      "               core.clj:  7181 clojure.core$assert_valid_fdecl/invokeStatic           ",
      "               core.clj:  7178 clojure.core$assert_valid_fdecl/invoke                 ",
      "               core.clj:   227 clojure.core$sigs/invokeStatic                         ",
      "               core.clj:   315 clojure.core$defn__4387/invokeStatic                   ",
      "               core.clj:   292 clojure.core$defn__4387/doInvoke                       ",
      "            RestFn.java:   467 clojure.lang.RestFn/invoke                             ",
      "               Var.java:   394 clojure.lang.Var/invoke                                ",
      "               AFn.java:   165 clojure.lang.AFn/applyToHelper                         ",
      "               Var.java:   700 clojure.lang.Var/applyTo                               ",
      "               core.clj:  3105 clojure.core$eval/invokeStatic                         ",
      "               core.clj:  3101 clojure.core$eval/invoke                               ",
      "               main.clj:   240 clojure.main$repl$read_eval_print__7408$fn__7411/invoke",
      "               main.clj:   258 clojure.main$repl$fn__7417/invoke                      ",
      "               main.clj:   174 clojure.main$repl/doInvoke                             ",
      "            RestFn.java:  1523 clojure.lang.RestFn/invoke                             ",
      "               AFn.java:   152 clojure.lang.AFn/applyToHelper                         ",
      "               AFn.java:   144 clojure.lang.AFn/applyTo                               ",
      "               core.clj:   646 clojure.core$apply/invokeStatic                        ",
      "               core.clj:  1881 clojure.core$with_bindings_STAR_/invokeStatic          ",
      "            RestFn.java:   425 clojure.lang.RestFn/invoke                             ",
      "               AFn.java:    22 clojure.lang.AFn/run                                   ",
      "ThreadPoolExecutor.java:  1135 java.util.concurrent.ThreadPoolExecutor/runWorker      ",
      "ThreadPoolExecutor.java:   635 java.util.concurrent.ThreadPoolExecutor$Worker/run     ",
      "            Thread.java:   844 java.lang.Thread/run                                   "
     ]
    }
   ],
   "source": [
    "(defn partition-map\n",
    "    ([afn aseq] (partition-map {} afn aseq))\n",
    "    ([acc afn aseq]\n",
    "     (if empty? aseq)\n",
    "         acc \n",
    "             (let)\n",
    "     )\n",
    "    )"
   ]
  },
  {
   "cell_type": "code",
   "execution_count": null,
   "metadata": {},
   "outputs": [],
   "source": []
  }
 ],
 "metadata": {
  "kernelspec": {
   "display_name": "Clojure",
   "language": "clojure",
   "name": "clojure"
  },
  "language_info": {
   "file_extension": ".clj",
   "mimetype": "text/x-clojure",
   "name": "clojure",
   "version": "1.8.0"
  }
 },
 "nbformat": 4,
 "nbformat_minor": 2
}
